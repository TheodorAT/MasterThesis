{
 "cells": [
  {
   "cell_type": "code",
   "execution_count": 4,
   "metadata": {},
   "outputs": [],
   "source": [
    "import os\n",
    "import csv\n",
    "from matplotlib import pyplot as plt"
   ]
  },
  {
   "cell_type": "code",
   "execution_count": 5,
   "metadata": {},
   "outputs": [
    {
     "name": "stdout",
     "output_type": "stream",
     "text": [
      "fast_lp_benchmark_dwifob+step_size_momentum_steering_lambda=1_kappa=0.9_no_threshold_1e-4.csv\n",
      "fast_lp_benchmark_dwifob+step_size_momentum_steering_lambda=1_kappa=0.9_no_threshold_1e-8.csv\n",
      "fast_lp_benchmark_dwifob+step_size_momentum_steering_lambda=1_kappa=0.9_threshold=0.9_1e-4.csv\n",
      "fast_lp_benchmark_dwifob+step_size_momentum_steering_lambda=1_kappa=0.9_threshold=0.9_1e-8.csv\n",
      "fast_lp_benchmark_pdlp_1e-4.csv\n",
      "fast_lp_benchmark_pdlp_1e-8.csv\n"
     ]
    }
   ],
   "source": [
    "# Search for the available json files in the results folder:\n",
    "rootdir = \"../results_csv\"\n",
    "result_summary_files = []\n",
    "for subdir, dirs, files in os.walk(rootdir):\n",
    "    for file in files:\n",
    "        if file.endswith(\".csv\") and \"fast_lp_benchmark\" in file and (\"lambda=1\" in file or \"pdlp\" in file):\n",
    "            result_summary_files.append(os.path.join(subdir, file))\n",
    "            print(file)\n",
    "    break # <-- This ensures that we only search in a depth of one."
   ]
  },
  {
   "cell_type": "code",
   "execution_count": 6,
   "metadata": {},
   "outputs": [
    {
     "name": "stdout",
     "output_type": "stream",
     "text": [
      "fast_lp_benchmark_dwifob+step_size_momentum_steering_lambda=1_kappa=0.9_no_threshold_1e-4\n",
      " - Total iterations:  11400 \n",
      " - Number of instances solved:  10 / 10 \n",
      " - Total seconds:  263.500459733 \n",
      " - Total KKT passes:  12187.0\n",
      "fast_lp_benchmark_dwifob+step_size_momentum_steering_lambda=1_kappa=0.9_no_threshold_1e-8\n",
      " - Total iterations:  36600 \n",
      " - Number of instances solved:  7 / 10 \n",
      " - Total seconds:  652.5088463579999 \n",
      " - Total KKT passes:  38650.0\n",
      "fast_lp_benchmark_dwifob+step_size_momentum_steering_lambda=1_kappa=0.9_threshold=0.9_1e-4\n",
      " - Total iterations:  9880 \n",
      " - Number of instances solved:  10 / 10 \n",
      " - Total seconds:  243.671599264 \n",
      " - Total KKT passes:  10612.0\n",
      "fast_lp_benchmark_dwifob+step_size_momentum_steering_lambda=1_kappa=0.9_threshold=0.9_1e-8\n",
      " - Total iterations:  36880 \n",
      " - Number of instances solved:  7 / 10 \n",
      " - Total seconds:  600.6007415429999 \n",
      " - Total KKT passes:  38968.0\n",
      "fast_lp_benchmark_pdlp_1e-4\n",
      " - Total iterations:  11640 \n",
      " - Number of instances solved:  10 / 10 \n",
      " - Total seconds:  175.40491839299997 \n",
      " - Total KKT passes:  12493.0\n",
      "fast_lp_benchmark_pdlp_1e-8\n",
      " - Total iterations:  37920 \n",
      " - Number of instances solved:  7 / 10 \n",
      " - Total seconds:  404.336399941 \n",
      " - Total KKT passes:  40090.0\n"
     ]
    }
   ],
   "source": [
    "for file in result_summary_files:\n",
    "    total_iterations = 0\n",
    "    total_seconds = 0\n",
    "    total_KKT_passes = 0\n",
    "    instance_counter = 0\n",
    "    solved_instances = 0\n",
    "    print(file.split(\"/\")[-1].removesuffix(\".csv\"))\n",
    "    with open(file, \"r\") as csv_file:\n",
    "        file_reader = csv.reader(csv_file)\n",
    "        # for row in file_reader:\n",
    "        #     for idx, title in enumerate (row):\n",
    "        #         print(idx, \": \", title.strip())\n",
    "        #     break\n",
    "        first_row = True\n",
    "        for line in file_reader: \n",
    "            if first_row:\n",
    "                # print(line[5].strip())\n",
    "                first_row = False\n",
    "            else:\n",
    "                total_iterations += int(line[5].strip())\n",
    "                total_seconds += float(line[6].strip())\n",
    "                total_KKT_passes += float(line[7].strip())\n",
    "                instance_counter += 1\n",
    "                termination_reason = line[4].strip()\n",
    "                if termination_reason == \"TERMINATION_REASON_OPTIMAL\":\n",
    "                    solved_instances += 1\n",
    "\n",
    "    print(\" - Total iterations: \", total_iterations, \n",
    "          \"\\n - Number of instances solved: \", solved_instances, \"/\", instance_counter, \n",
    "          \"\\n - Total seconds: \", total_seconds, \n",
    "          \"\\n - Total KKT passes: \", total_KKT_passes)"
   ]
  },
  {
   "cell_type": "code",
   "execution_count": 8,
   "metadata": {},
   "outputs": [
    {
     "name": "stdout",
     "output_type": "stream",
     "text": [
      "fast_lp_benchmark_inertial_PDHG+step_size_1e-4_beta=0.3_threshold=0.9_m=[1]\n",
      " - Total iterations:  81200 \n",
      " - Number of instances solved:  19 / 19 \n",
      " - Total seconds:  4198.664386106 \n",
      " - Total KKT passes:  86698.5\n",
      "lp_benchmark_inertial_PDHG+step_size_1e-4_beta=0.4_threshold=0.9_m=[1]\n",
      " - Total iterations:  74680 \n",
      " - Number of (fast) instances solved:  19 / 19 \n",
      " - Total seconds:  4001.76579117 \n",
      " - Total KKT passes:  79702.5\n",
      "lp_benchmark_pdlp_1e-4\n",
      " - Total iterations:  78640 \n",
      " - Number of (fast) instances solved:  19 / 19 \n",
      " - Total seconds:  3261.02861307 \n",
      " - Total KKT passes:  83849.5\n"
     ]
    }
   ],
   "source": [
    "# Comparing on the faster subset:\n",
    "fast_instances = set()\n",
    "file = result_summary_files[0]\n",
    "result_summary_files.pop(0)\n",
    "total_iterations = 0\n",
    "total_seconds = 0\n",
    "total_KKT_passes = 0\n",
    "instance_counter = 0\n",
    "solved_instances = 0\n",
    "print(file.split(\"/\")[-1].removesuffix(\".csv\"))\n",
    "with open(file, \"r\") as csv_file:\n",
    "    file_reader = csv.reader(csv_file)\n",
    "    # for row in file_reader:\n",
    "    #     for idx, title in enumerate (row):\n",
    "    #         print(idx, \": \", title.strip())\n",
    "    #     break\n",
    "    first_row = True\n",
    "    for line in file_reader: \n",
    "        if first_row:\n",
    "            # print(line[5].strip())\n",
    "            first_row = False\n",
    "        else:\n",
    "            instance_name = line[3].strip()\n",
    "            fast_instances.add(instance_name)\n",
    "            total_iterations += int(line[5].strip())\n",
    "            total_seconds += float(line[6].strip())\n",
    "            total_KKT_passes += float(line[7].strip())\n",
    "            instance_counter += 1\n",
    "            termination_reason = line[4].strip()\n",
    "            if termination_reason == \"TERMINATION_REASON_OPTIMAL\":\n",
    "                solved_instances += 1\n",
    "\n",
    "print(\" - Total iterations: \", total_iterations, \n",
    "        \"\\n - Number of instances solved: \", solved_instances, \"/\", instance_counter, \n",
    "        \"\\n - Total seconds: \", total_seconds, \n",
    "        \"\\n - Total KKT passes: \", total_KKT_passes)\n",
    "\n",
    "\n",
    "for file in result_summary_files:\n",
    "    total_iterations = 0\n",
    "    total_seconds = 0\n",
    "    total_KKT_passes = 0\n",
    "    instance_counter = 0\n",
    "    solved_instances = 0\n",
    "    print(file.split(\"/\")[-1].removesuffix(\".csv\"))\n",
    "    with open(file, \"r\") as csv_file:\n",
    "        file_reader = csv.reader(csv_file)\n",
    "        # for row in file_reader:\n",
    "        #     for idx, title in enumerate (row):\n",
    "        #         print(idx, \": \", title.strip())\n",
    "        #     break\n",
    "        first_row = True\n",
    "        for line in file_reader: \n",
    "            if first_row:\n",
    "                # print(line[5].strip())\n",
    "                first_row = False\n",
    "            else:\n",
    "                instance_name = line[3].strip()\n",
    "                if instance_name in fast_instances:\n",
    "                    total_iterations += int(line[5].strip())\n",
    "                    total_seconds += float(line[6].strip())\n",
    "                    total_KKT_passes += float(line[7].strip())\n",
    "                    instance_counter += 1\n",
    "                    termination_reason = line[4].strip()\n",
    "                    if termination_reason == \"TERMINATION_REASON_OPTIMAL\":\n",
    "                        solved_instances += 1\n",
    "\n",
    "    print(\" - Total iterations: \", total_iterations, \n",
    "          \"\\n - Number of (fast) instances solved: \", solved_instances, \"/\", instance_counter, \n",
    "          \"\\n - Total seconds: \", total_seconds, \n",
    "          \"\\n - Total KKT passes: \", total_KKT_passes)"
   ]
  },
  {
   "cell_type": "markdown",
   "metadata": {},
   "source": [
    "# Largest inertia winners:\n",
    "- L1_sixm250obs\n",
    "\n",
    "# Largest inertia losers: (maybe tune a little bit on these)\n",
    "- buildingenenergy\n",
    "- degme"
   ]
  }
 ],
 "metadata": {
  "kernelspec": {
   "display_name": "Python 3",
   "language": "python",
   "name": "python3"
  },
  "language_info": {
   "codemirror_mode": {
    "name": "ipython",
    "version": 3
   },
   "file_extension": ".py",
   "mimetype": "text/x-python",
   "name": "python",
   "nbconvert_exporter": "python",
   "pygments_lexer": "ipython3",
   "version": "3.10.12"
  }
 },
 "nbformat": 4,
 "nbformat_minor": 2
}
