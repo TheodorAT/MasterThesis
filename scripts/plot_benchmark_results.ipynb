{
 "cells": [
  {
   "cell_type": "code",
   "execution_count": 2,
   "metadata": {},
   "outputs": [],
   "source": [
    "import os\n",
    "import csv\n",
    "from matplotlib import pyplot as plt"
   ]
  },
  {
   "cell_type": "code",
   "execution_count": 3,
   "metadata": {},
   "outputs": [
    {
     "name": "stdout",
     "output_type": "stream",
     "text": [
      "lp_benchmark_inertial_PDHG+step_size_1e-4_m=[1].csv\n",
      "lp_benchmark_inertial_PDHG+step_size_faster_1e-4_m=[1].csv\n",
      "lp_benchmark_pdlp_1e-4.csv\n",
      "lp_benchmark_pdlp_no_presolve_1e-8.csv\n",
      "lp_benchmark_pdlp_presolve_1e-8.csv\n"
     ]
    }
   ],
   "source": [
    "# Search for the available json files in the results folder:\n",
    "rootdir = \"../results\"\n",
    "result_summary_files = []\n",
    "for subdir, dirs, files in os.walk(rootdir):\n",
    "    for file in files:\n",
    "        if file.endswith(\".csv\") and \"lp_benchmark\" in file and \"fast_lp_benchmark\" not in file:\n",
    "            result_summary_files.append(os.path.join(subdir, file))\n",
    "            print(file)\n",
    "    break # <-- This ensures that we only search in a depth of one."
   ]
  },
  {
   "cell_type": "code",
   "execution_count": 4,
   "metadata": {},
   "outputs": [
    {
     "name": "stdout",
     "output_type": "stream",
     "text": [
      "lp_benchmark_inertial_PDHG+step_size_1e-4_m=[1]\n",
      " - Total iterations:  249120 \n",
      " - Number of instances solved:  17 / 37 \n",
      " - Total seconds:  9040.671419059 \n",
      " - Total KKT passes:  264544.5\n",
      "lp_benchmark_inertial_PDHG+step_size_faster_1e-4_m=[1]\n",
      " - Total iterations:  252760 \n",
      " - Number of instances solved:  17 / 37 \n",
      " - Total seconds:  8681.730865377 \n",
      " - Total KKT passes:  268378.5\n",
      "lp_benchmark_pdlp_1e-4\n",
      " - Total iterations:  257680 \n",
      " - Number of instances solved:  18 / 37 \n",
      " - Total seconds:  7816.3514720369985 \n",
      " - Total KKT passes:  273393.5\n",
      "lp_benchmark_pdlp_no_presolve_1e-8\n",
      " - Total iterations:  760 \n",
      " - Number of instances solved:  1 / 1 \n",
      " - Total seconds:  4.79574718 \n",
      " - Total KKT passes:  820.5\n",
      "lp_benchmark_pdlp_presolve_1e-8\n",
      " - Total iterations:  800 \n",
      " - Number of instances solved:  1 / 1 \n",
      " - Total seconds:  5.012023049 \n",
      " - Total KKT passes:  861.5\n"
     ]
    }
   ],
   "source": [
    "for file in result_summary_files:\n",
    "    total_iterations = 0\n",
    "    total_seconds = 0\n",
    "    total_KKT_passes = 0\n",
    "    instance_counter = 0\n",
    "    solved_instances = 0\n",
    "    print(file.split(\"/\")[-1].removesuffix(\".csv\"))\n",
    "    with open(file, \"r\") as csv_file:\n",
    "        file_reader = csv.reader(csv_file)\n",
    "        # for row in file_reader:\n",
    "        #     for idx, title in enumerate (row):\n",
    "        #         print(idx, \": \", title.strip())\n",
    "        #     break\n",
    "        first_row = True\n",
    "        for line in file_reader: \n",
    "            if first_row:\n",
    "                # print(line[5].strip())\n",
    "                first_row = False\n",
    "            else:\n",
    "                total_iterations += int(line[5].strip())\n",
    "                total_seconds += float(line[6].strip())\n",
    "                total_KKT_passes += float(line[7].strip())\n",
    "                instance_counter += 1\n",
    "                termination_reason = line[4].strip()\n",
    "                if termination_reason == \"TERMINATION_REASON_OPTIMAL\":\n",
    "                    solved_instances += 1\n",
    "\n",
    "    print(\" - Total iterations: \", total_iterations, \n",
    "          \"\\n - Number of instances solved: \", solved_instances, \"/\", instance_counter, \n",
    "          \"\\n - Total seconds: \", total_seconds, \n",
    "          \"\\n - Total KKT passes: \", total_KKT_passes)"
   ]
  },
  {
   "cell_type": "code",
   "execution_count": null,
   "metadata": {},
   "outputs": [],
   "source": []
  },
  {
   "cell_type": "markdown",
   "metadata": {},
   "source": [
    "# Largest inertia winners:\n",
    "- L1_sixm250obs\n",
    "\n",
    "# Largest inertia losers: (maybe tune a little bit on these)\n",
    "- buildingenenergy\n",
    "- degme"
   ]
  }
 ],
 "metadata": {
  "kernelspec": {
   "display_name": "Python 3",
   "language": "python",
   "name": "python3"
  },
  "language_info": {
   "codemirror_mode": {
    "name": "ipython",
    "version": 3
   },
   "file_extension": ".py",
   "mimetype": "text/x-python",
   "name": "python",
   "nbconvert_exporter": "python",
   "pygments_lexer": "ipython3",
   "version": "3.10.12"
  }
 },
 "nbformat": 4,
 "nbformat_minor": 2
}
